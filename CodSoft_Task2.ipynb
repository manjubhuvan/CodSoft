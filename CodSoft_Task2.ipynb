{
  "metadata": {
    "kernelspec": {
      "language": "python",
      "display_name": "Python 3",
      "name": "python3"
    },
    "language_info": {
      "name": "python",
      "version": "3.11.11",
      "mimetype": "text/x-python",
      "codemirror_mode": {
        "name": "ipython",
        "version": 3
      },
      "pygments_lexer": "ipython3",
      "nbconvert_exporter": "python",
      "file_extension": ".py"
    },
    "kaggle": {
      "accelerator": "none",
      "dataSources": [
        {
          "sourceId": 1399887,
          "sourceType": "datasetVersion",
          "datasetId": 817870
        },
        {
          "sourceId": 246846280,
          "sourceType": "kernelVersion"
        }
      ],
      "dockerImageVersionId": 31040,
      "isInternetEnabled": true,
      "language": "python",
      "sourceType": "notebook",
      "isGpuEnabled": false
    },
    "colab": {
      "provenance": []
    }
  },
  "nbformat_minor": 0,
  "nbformat": 4,
  "cells": [
    {
      "source": [
        "import kagglehub\n",
        "kartik2112_fraud_detection_path = kagglehub.dataset_download('kartik2112/fraud-detection')\n",
        "johanan28_credit_card_fraud_detection_path = kagglehub.notebook_output_download('johanan28/credit-card-fraud-detection')\n",
        "\n",
        "print('Data source import complete.')\n"
      ],
      "metadata": {
        "id": "KLStRsoetdCB",
        "outputId": "2d960ac1-bce7-47b1-d482-b572491b24c6",
        "colab": {
          "base_uri": "https://localhost:8080/"
        }
      },
      "cell_type": "code",
      "outputs": [
        {
          "output_type": "stream",
          "name": "stdout",
          "text": [
            "Data source import complete.\n"
          ]
        }
      ],
      "execution_count": null
    },
    {
      "cell_type": "code",
      "source": [
        "!pip uninstall scipy -y\n",
        "!pip install imbalanced-learn==0.11.0 scikit-learn==1.2.2 numpy==1.26.4 scipy==1.11.4 --no-deps"
      ],
      "metadata": {
        "trusted": true,
        "execution": {
          "iopub.status.busy": "2025-06-23T06:55:35.559144Z",
          "iopub.execute_input": "2025-06-23T06:55:35.560002Z",
          "iopub.status.idle": "2025-06-23T06:55:43.889427Z",
          "shell.execute_reply.started": "2025-06-23T06:55:35.559972Z",
          "shell.execute_reply": "2025-06-23T06:55:43.888356Z"
        },
        "id": "G-T7USOJtdCE",
        "outputId": "f474a796-6b7e-4119-d683-bc8495c06024",
        "colab": {
          "base_uri": "https://localhost:8080/",
          "height": 720
        }
      },
      "outputs": [
        {
          "output_type": "stream",
          "name": "stdout",
          "text": [
            "Found existing installation: scipy 1.15.3\n",
            "Uninstalling scipy-1.15.3:\n",
            "  Successfully uninstalled scipy-1.15.3\n",
            "Collecting imbalanced-learn==0.11.0\n",
            "  Downloading imbalanced_learn-0.11.0-py3-none-any.whl.metadata (8.3 kB)\n",
            "Collecting scikit-learn==1.2.2\n",
            "  Downloading scikit_learn-1.2.2-cp311-cp311-manylinux_2_17_x86_64.manylinux2014_x86_64.whl.metadata (11 kB)\n",
            "Collecting numpy==1.26.4\n",
            "  Downloading numpy-1.26.4-cp311-cp311-manylinux_2_17_x86_64.manylinux2014_x86_64.whl.metadata (61 kB)\n",
            "\u001b[2K     \u001b[90m━━━━━━━━━━━━━━━━━━━━━━━━━━━━━━━━━━━━━━━━\u001b[0m \u001b[32m61.0/61.0 kB\u001b[0m \u001b[31m2.5 MB/s\u001b[0m eta \u001b[36m0:00:00\u001b[0m\n",
            "\u001b[?25hCollecting scipy==1.11.4\n",
            "  Downloading scipy-1.11.4-cp311-cp311-manylinux_2_17_x86_64.manylinux2014_x86_64.whl.metadata (60 kB)\n",
            "\u001b[2K     \u001b[90m━━━━━━━━━━━━━━━━━━━━━━━━━━━━━━━━━━━━━━━━\u001b[0m \u001b[32m60.4/60.4 kB\u001b[0m \u001b[31m3.6 MB/s\u001b[0m eta \u001b[36m0:00:00\u001b[0m\n",
            "\u001b[?25hDownloading imbalanced_learn-0.11.0-py3-none-any.whl (235 kB)\n",
            "\u001b[2K   \u001b[90m━━━━━━━━━━━━━━━━━━━━━━━━━━━━━━━━━━━━━━━━\u001b[0m \u001b[32m235.6/235.6 kB\u001b[0m \u001b[31m11.1 MB/s\u001b[0m eta \u001b[36m0:00:00\u001b[0m\n",
            "\u001b[?25hDownloading scikit_learn-1.2.2-cp311-cp311-manylinux_2_17_x86_64.manylinux2014_x86_64.whl (9.6 MB)\n",
            "\u001b[2K   \u001b[90m━━━━━━━━━━━━━━━━━━━━━━━━━━━━━━━━━━━━━━━━\u001b[0m \u001b[32m9.6/9.6 MB\u001b[0m \u001b[31m85.0 MB/s\u001b[0m eta \u001b[36m0:00:00\u001b[0m\n",
            "\u001b[?25hDownloading numpy-1.26.4-cp311-cp311-manylinux_2_17_x86_64.manylinux2014_x86_64.whl (18.3 MB)\n",
            "\u001b[2K   \u001b[90m━━━━━━━━━━━━━━━━━━━━━━━━━━━━━━━━━━━━━━━━\u001b[0m \u001b[32m18.3/18.3 MB\u001b[0m \u001b[31m73.1 MB/s\u001b[0m eta \u001b[36m0:00:00\u001b[0m\n",
            "\u001b[?25hDownloading scipy-1.11.4-cp311-cp311-manylinux_2_17_x86_64.manylinux2014_x86_64.whl (36.4 MB)\n",
            "\u001b[2K   \u001b[90m━━━━━━━━━━━━━━━━━━━━━━━━━━━━━━━━━━━━━━━━\u001b[0m \u001b[32m36.4/36.4 MB\u001b[0m \u001b[31m13.6 MB/s\u001b[0m eta \u001b[36m0:00:00\u001b[0m\n",
            "\u001b[?25hInstalling collected packages: imbalanced-learn, scipy, scikit-learn, numpy\n",
            "  Attempting uninstall: imbalanced-learn\n",
            "    Found existing installation: imbalanced-learn 0.13.0\n",
            "    Uninstalling imbalanced-learn-0.13.0:\n",
            "      Successfully uninstalled imbalanced-learn-0.13.0\n",
            "  Attempting uninstall: scikit-learn\n",
            "    Found existing installation: scikit-learn 1.6.1\n",
            "    Uninstalling scikit-learn-1.6.1:\n",
            "      Successfully uninstalled scikit-learn-1.6.1\n",
            "  Attempting uninstall: numpy\n",
            "    Found existing installation: numpy 2.0.2\n",
            "    Uninstalling numpy-2.0.2:\n",
            "      Successfully uninstalled numpy-2.0.2\n",
            "Successfully installed imbalanced-learn-0.11.0 numpy-1.26.4 scikit-learn-1.2.2 scipy-1.11.4\n"
          ]
        },
        {
          "output_type": "display_data",
          "data": {
            "application/vnd.colab-display-data+json": {
              "pip_warning": {
                "packages": [
                  "numpy"
                ]
              },
              "id": "524b9d0ffc3443a8bb08f7d45f086444"
            }
          },
          "metadata": {}
        }
      ],
      "execution_count": null
    },
    {
      "cell_type": "code",
      "source": [
        "import pandas as pd\n",
        "import numpy as np\n",
        "from sklearn.model_selection import train_test_split\n",
        "from sklearn.preprocessing import StandardScaler, LabelEncoder\n",
        "from sklearn.linear_model import LogisticRegression\n",
        "from sklearn.tree import DecisionTreeClassifier\n",
        "from sklearn.ensemble import RandomForestClassifier\n",
        "from sklearn.metrics import classification_report, confusion_matrix, roc_auc_score\n",
        "from imblearn.over_sampling import SMOTE\n",
        "import warnings\n",
        "warnings.filterwarnings('ignore')"
      ],
      "metadata": {
        "trusted": true,
        "execution": {
          "iopub.status.busy": "2025-06-23T06:56:03.638813Z",
          "iopub.execute_input": "2025-06-23T06:56:03.639169Z",
          "iopub.status.idle": "2025-06-23T06:56:03.645523Z",
          "shell.execute_reply.started": "2025-06-23T06:56:03.639137Z",
          "shell.execute_reply": "2025-06-23T06:56:03.644623Z"
        },
        "id": "-jSNAlz9tdCE"
      },
      "outputs": [],
      "execution_count": null
    },
    {
      "cell_type": "code",
      "source": [
        "train_data = pd.read_csv(\"/kaggle/input/fraud-detection/fraudTrain.csv\")\n",
        "test_data = pd.read_csv(\"/kaggle/input/fraud-detection/fraudTest.csv\")"
      ],
      "metadata": {
        "trusted": true,
        "execution": {
          "iopub.status.busy": "2025-06-23T07:06:12.494276Z",
          "iopub.execute_input": "2025-06-23T07:06:12.494635Z",
          "iopub.status.idle": "2025-06-23T07:06:24.100951Z",
          "shell.execute_reply.started": "2025-06-23T07:06:12.494607Z",
          "shell.execute_reply": "2025-06-23T07:06:24.099979Z"
        },
        "id": "-_1CTEABtdCF"
      },
      "outputs": [],
      "execution_count": null
    },
    {
      "cell_type": "code",
      "source": [
        "print(\"Training Data Shape:\", train_data.shape)\n",
        "print(\"Fraud Cases in Train:\", len(train_data[train_data['is_fraud'] == 1]))\n",
        "print(\"Legitimate Cases in Train:\", len(train_data[train_data['is_fraud'] == 0]))\n",
        "print(\"\\nTest Data Shape:\", test_data.shape)"
      ],
      "metadata": {
        "trusted": true,
        "execution": {
          "iopub.status.busy": "2025-06-23T07:06:27.672689Z",
          "iopub.execute_input": "2025-06-23T07:06:27.673003Z",
          "iopub.status.idle": "2025-06-23T07:06:27.956305Z",
          "shell.execute_reply.started": "2025-06-23T07:06:27.67298Z",
          "shell.execute_reply": "2025-06-23T07:06:27.955426Z"
        },
        "id": "gj46Ft8ytdCG",
        "outputId": "564eab47-e7e8-4dbd-b5ef-ed35acd9864f",
        "colab": {
          "base_uri": "https://localhost:8080/"
        }
      },
      "outputs": [
        {
          "output_type": "stream",
          "name": "stdout",
          "text": [
            "Training Data Shape: (1296675, 23)\n",
            "Fraud Cases in Train: 7506\n",
            "Legitimate Cases in Train: 1289169\n",
            "\n",
            "Test Data Shape: (555719, 23)\n"
          ]
        }
      ],
      "execution_count": null
    },
    {
      "cell_type": "code",
      "source": [
        "train_data['trans_date_trans_time'] = pd.to_datetime(train_data['trans_date_trans_time'])\n",
        "test_data['trans_date_trans_time'] = pd.to_datetime(test_data['trans_date_trans_time'])"
      ],
      "metadata": {
        "trusted": true,
        "execution": {
          "iopub.status.busy": "2025-06-23T07:07:09.659501Z",
          "iopub.execute_input": "2025-06-23T07:07:09.659923Z",
          "iopub.status.idle": "2025-06-23T07:07:10.154821Z",
          "shell.execute_reply.started": "2025-06-23T07:07:09.659894Z",
          "shell.execute_reply": "2025-06-23T07:07:10.153966Z"
        },
        "id": "1ZxGzUIitdCG"
      },
      "outputs": [],
      "execution_count": null
    },
    {
      "cell_type": "code",
      "source": [
        "train_data['trans_hour'] = train_data['trans_date_trans_time'].dt.hour\n",
        "train_data['trans_day_of_week'] = train_data['trans_date_trans_time'].dt.dayofweek\n",
        "test_data['trans_hour'] = test_data['trans_date_trans_time'].dt.hour\n",
        "test_data['trans_day_of_week'] = test_data['trans_date_trans_time'].dt.dayofweek"
      ],
      "metadata": {
        "trusted": true,
        "execution": {
          "iopub.status.busy": "2025-06-23T07:07:25.999726Z",
          "iopub.execute_input": "2025-06-23T07:07:26.000026Z",
          "iopub.status.idle": "2025-06-23T07:07:26.115944Z",
          "shell.execute_reply.started": "2025-06-23T07:07:25.999994Z",
          "shell.execute_reply": "2025-06-23T07:07:26.11516Z"
        },
        "id": "xb0bMyjetdCH"
      },
      "outputs": [],
      "execution_count": null
    },
    {
      "cell_type": "code",
      "source": [
        "train_data = train_data.drop(columns=['trans_date_trans_time'])\n",
        "test_data = test_data.drop(columns=['trans_date_trans_time'])"
      ],
      "metadata": {
        "trusted": true,
        "execution": {
          "iopub.status.busy": "2025-06-23T07:07:39.579406Z",
          "iopub.execute_input": "2025-06-23T07:07:39.579762Z",
          "iopub.status.idle": "2025-06-23T07:07:39.939802Z",
          "shell.execute_reply.started": "2025-06-23T07:07:39.579734Z",
          "shell.execute_reply": "2025-06-23T07:07:39.938803Z"
        },
        "id": "ai9dJBdBtdCH"
      },
      "outputs": [],
      "execution_count": null
    },
    {
      "cell_type": "code",
      "source": [
        "categorical_cols = ['merchant', 'category', 'gender', 'city', 'state', 'job']\n",
        "le = LabelEncoder()\n",
        "for col in ['merchant', 'city', 'state', 'job']:\n",
        "    train_data[col] = le.fit_transform(train_data[col])\n",
        "    test_data[col] = test_data[col].map(lambda s: '<unknown>' if s not in le.classes_ else s)\n",
        "    le.classes_ = np.append(le.classes_, '<unknown>')\n",
        "    test_data[col] = le.transform(test_data[col])\n",
        "train_data = pd.get_dummies(train_data, columns=['category', 'gender'], drop_first=True)\n",
        "test_data = pd.get_dummies(test_data, columns=['category', 'gender'], drop_first=True)"
      ],
      "metadata": {
        "trusted": true,
        "execution": {
          "iopub.status.busy": "2025-06-23T07:08:49.614502Z",
          "iopub.execute_input": "2025-06-23T07:08:49.614881Z",
          "iopub.status.idle": "2025-06-23T07:09:27.186122Z",
          "shell.execute_reply.started": "2025-06-23T07:08:49.614855Z",
          "shell.execute_reply": "2025-06-23T07:09:27.184971Z"
        },
        "id": "Z5Dmm-4mtdCI"
      },
      "outputs": [],
      "execution_count": null
    },
    {
      "cell_type": "code",
      "source": [
        "columns_to_drop = ['trans_num', 'first', 'last', 'street', 'dob']\n",
        "train_data = train_data.drop(columns=[col for col in columns_to_drop if col in train_data.columns])\n",
        "test_data = test_data.drop(columns=[col for col in columns_to_drop if col in test_data.columns])"
      ],
      "metadata": {
        "trusted": true,
        "execution": {
          "iopub.status.busy": "2025-06-23T07:09:34.328039Z",
          "iopub.execute_input": "2025-06-23T07:09:34.328345Z",
          "iopub.status.idle": "2025-06-23T07:09:34.463261Z",
          "shell.execute_reply.started": "2025-06-23T07:09:34.32832Z",
          "shell.execute_reply": "2025-06-23T07:09:34.462375Z"
        },
        "id": "iapi005itdCI"
      },
      "outputs": [],
      "execution_count": null
    },
    {
      "cell_type": "code",
      "source": [
        "missing_cols = set(train_data.columns) - set(test_data.columns)\n",
        "for col in missing_cols:\n",
        "    if col != 'is_fraud':\n",
        "        test_data[col] = 0\n",
        "test_data = test_data[train_data.columns]"
      ],
      "metadata": {
        "trusted": true,
        "execution": {
          "iopub.status.busy": "2025-06-23T07:09:38.058221Z",
          "iopub.execute_input": "2025-06-23T07:09:38.058689Z",
          "iopub.status.idle": "2025-06-23T07:09:38.084615Z",
          "shell.execute_reply.started": "2025-06-23T07:09:38.058662Z",
          "shell.execute_reply": "2025-06-23T07:09:38.083599Z"
        },
        "id": "wyWqUeNotdCJ"
      },
      "outputs": [],
      "execution_count": null
    },
    {
      "cell_type": "code",
      "source": [
        "train_data = train_data.dropna()\n",
        "test_data = test_data.dropna()"
      ],
      "metadata": {
        "trusted": true,
        "execution": {
          "iopub.status.busy": "2025-06-23T07:10:00.406477Z",
          "iopub.execute_input": "2025-06-23T07:10:00.407978Z",
          "iopub.status.idle": "2025-06-23T07:10:00.575284Z",
          "shell.execute_reply.started": "2025-06-23T07:10:00.407905Z",
          "shell.execute_reply": "2025-06-23T07:10:00.57429Z"
        },
        "id": "GrQcWs5otdCJ"
      },
      "outputs": [],
      "execution_count": null
    },
    {
      "cell_type": "code",
      "source": [
        "X_train = train_data.drop('is_fraud', axis=1)\n",
        "y_train = train_data['is_fraud']\n",
        "X_test = test_data.drop('is_fraud', axis=1)\n",
        "y_test = test_data['is_fraud']"
      ],
      "metadata": {
        "trusted": true,
        "execution": {
          "iopub.status.busy": "2025-06-23T07:10:13.808259Z",
          "iopub.execute_input": "2025-06-23T07:10:13.808993Z",
          "iopub.status.idle": "2025-06-23T07:10:13.904532Z",
          "shell.execute_reply.started": "2025-06-23T07:10:13.808958Z",
          "shell.execute_reply": "2025-06-23T07:10:13.90372Z"
        },
        "id": "NjEuL2VFtdCJ"
      },
      "outputs": [],
      "execution_count": null
    },
    {
      "cell_type": "code",
      "source": [
        "print(\"Features after preprocessing:\", X_train.columns.tolist())"
      ],
      "metadata": {
        "trusted": true,
        "execution": {
          "iopub.status.busy": "2025-06-23T07:10:20.509056Z",
          "iopub.execute_input": "2025-06-23T07:10:20.509356Z",
          "iopub.status.idle": "2025-06-23T07:10:20.51528Z",
          "shell.execute_reply.started": "2025-06-23T07:10:20.509331Z",
          "shell.execute_reply": "2025-06-23T07:10:20.513973Z"
        },
        "id": "x0JiLPsstdCK",
        "outputId": "5e876964-d2aa-4de9-913d-9b19bac64393",
        "colab": {
          "base_uri": "https://localhost:8080/"
        }
      },
      "outputs": [
        {
          "output_type": "stream",
          "name": "stdout",
          "text": [
            "Features after preprocessing: ['Unnamed: 0', 'cc_num', 'merchant', 'amt', 'city', 'state', 'zip', 'lat', 'long', 'city_pop', 'job', 'unix_time', 'merch_lat', 'merch_long', 'trans_hour', 'trans_day_of_week', 'category_food_dining', 'category_gas_transport', 'category_grocery_net', 'category_grocery_pos', 'category_health_fitness', 'category_home', 'category_kids_pets', 'category_misc_net', 'category_misc_pos', 'category_personal_care', 'category_shopping_net', 'category_shopping_pos', 'category_travel', 'gender_M']\n"
          ]
        }
      ],
      "execution_count": null
    },
    {
      "cell_type": "code",
      "source": [
        "scaler = StandardScaler()\n",
        "X_train_scaled = scaler.fit_transform(X_train)\n",
        "X_test_scaled = scaler.transform(X_test)"
      ],
      "metadata": {
        "trusted": true,
        "execution": {
          "iopub.status.busy": "2025-06-23T07:10:32.328409Z",
          "iopub.execute_input": "2025-06-23T07:10:32.329121Z",
          "iopub.status.idle": "2025-06-23T07:10:35.638032Z",
          "shell.execute_reply.started": "2025-06-23T07:10:32.329079Z",
          "shell.execute_reply": "2025-06-23T07:10:35.636816Z"
        },
        "id": "6aeYfsrCtdCK"
      },
      "outputs": [],
      "execution_count": null
    },
    {
      "cell_type": "code",
      "source": [
        "smote = SMOTE(sampling_strategy=0.1, random_state=42, n_jobs=1)\n",
        "X_train_res, y_train_res = smote.fit_resample(X_train_scaled, y_train)"
      ],
      "metadata": {
        "trusted": true,
        "execution": {
          "iopub.status.busy": "2025-06-23T07:10:58.809577Z",
          "iopub.execute_input": "2025-06-23T07:10:58.810356Z",
          "iopub.status.idle": "2025-06-23T07:11:00.33369Z",
          "shell.execute_reply.started": "2025-06-23T07:10:58.810323Z",
          "shell.execute_reply": "2025-06-23T07:11:00.332804Z"
        },
        "id": "PhdsRHfKtdCK"
      },
      "outputs": [],
      "execution_count": null
    },
    {
      "cell_type": "code",
      "source": [
        "print(\"Shape of resampled training data:\", X_train_res.shape)"
      ],
      "metadata": {
        "trusted": true,
        "execution": {
          "iopub.status.busy": "2025-06-23T07:11:04.528199Z",
          "iopub.execute_input": "2025-06-23T07:11:04.528514Z",
          "iopub.status.idle": "2025-06-23T07:11:04.533419Z",
          "shell.execute_reply.started": "2025-06-23T07:11:04.52849Z",
          "shell.execute_reply": "2025-06-23T07:11:04.53257Z"
        },
        "id": "pmFsNCRRtdCL",
        "outputId": "cc8340a6-98e2-4e35-d74b-d1c9b315fbee",
        "colab": {
          "base_uri": "https://localhost:8080/"
        }
      },
      "outputs": [
        {
          "output_type": "stream",
          "name": "stdout",
          "text": [
            "Shape of resampled training data: (1418085, 30)\n"
          ]
        }
      ],
      "execution_count": null
    },
    {
      "cell_type": "code",
      "source": [
        "models = {\n",
        "    'Logistic Regression': LogisticRegression(max_iter=1000, random_state=42, n_jobs=1),\n",
        "    'Decision Tree': DecisionTreeClassifier(random_state=42),\n",
        "    'Random Forest': RandomForestClassifier(n_estimators=50, random_state=42, n_jobs=1)\n",
        "}"
      ],
      "metadata": {
        "trusted": true,
        "execution": {
          "iopub.status.busy": "2025-06-23T07:11:36.838962Z",
          "iopub.execute_input": "2025-06-23T07:11:36.839659Z",
          "iopub.status.idle": "2025-06-23T07:11:36.844376Z",
          "shell.execute_reply.started": "2025-06-23T07:11:36.839632Z",
          "shell.execute_reply": "2025-06-23T07:11:36.843404Z"
        },
        "id": "vovRw1S8tdCL"
      },
      "outputs": [],
      "execution_count": null
    },
    {
      "cell_type": "code",
      "source": [
        "for name, model in models.items():\n",
        "    print(f\"\\nTraining {name}...\")\n",
        "    model.fit(X_train_res, y_train_res)\n",
        "    y_pred = model.predict(X_test_scaled)\n",
        "    print(f\"\\nResults for {name}:\")\n",
        "    print(\"Confusion Matrix:\")\n",
        "    print(confusion_matrix(y_test, y_pred))\n",
        "    print(\"\\nClassification Report:\")\n",
        "    print(classification_report(y_test, y_pred))\n",
        "    print(\"ROC AUC Score:\", roc_auc_score(y_test, y_pred))"
      ],
      "metadata": {
        "trusted": true,
        "execution": {
          "iopub.status.busy": "2025-06-23T07:12:02.16335Z",
          "iopub.execute_input": "2025-06-23T07:12:02.163788Z",
          "iopub.status.idle": "2025-06-23T07:17:57.985969Z",
          "shell.execute_reply.started": "2025-06-23T07:12:02.163742Z",
          "shell.execute_reply": "2025-06-23T07:17:57.984761Z"
        },
        "id": "CIqqO1CLtdCL",
        "outputId": "454ec82e-1b0d-4bca-d566-457350e923f1",
        "colab": {
          "base_uri": "https://localhost:8080/"
        }
      },
      "outputs": [
        {
          "output_type": "stream",
          "name": "stdout",
          "text": [
            "\n",
            "Training Logistic Regression...\n",
            "\n",
            "Results for Logistic Regression:\n",
            "Confusion Matrix:\n",
            "[[552839    735]\n",
            " [  2145      0]]\n",
            "\n",
            "Classification Report:\n",
            "              precision    recall  f1-score   support\n",
            "\n",
            "           0       1.00      1.00      1.00    553574\n",
            "           1       0.00      0.00      0.00      2145\n",
            "\n",
            "    accuracy                           0.99    555719\n",
            "   macro avg       0.50      0.50      0.50    555719\n",
            "weighted avg       0.99      0.99      0.99    555719\n",
            "\n",
            "ROC AUC Score: 0.49933613211603145\n",
            "\n",
            "Training Decision Tree...\n",
            "\n",
            "Results for Decision Tree:\n",
            "Confusion Matrix:\n",
            "[[550751   2823]\n",
            " [   698   1447]]\n",
            "\n",
            "Classification Report:\n",
            "              precision    recall  f1-score   support\n",
            "\n",
            "           0       1.00      0.99      1.00    553574\n",
            "           1       0.34      0.67      0.45      2145\n",
            "\n",
            "    accuracy                           0.99    555719\n",
            "   macro avg       0.67      0.83      0.72    555719\n",
            "weighted avg       1.00      0.99      0.99    555719\n",
            "\n",
            "ROC AUC Score: 0.8347462426886317\n",
            "\n",
            "Training Random Forest...\n",
            "\n",
            "Results for Random Forest:\n",
            "Confusion Matrix:\n",
            "[[553328    246]\n",
            " [   716   1429]]\n",
            "\n",
            "Classification Report:\n",
            "              precision    recall  f1-score   support\n",
            "\n",
            "           0       1.00      1.00      1.00    553574\n",
            "           1       0.85      0.67      0.75      2145\n",
            "\n",
            "    accuracy                           1.00    555719\n",
            "   macro avg       0.93      0.83      0.87    555719\n",
            "weighted avg       1.00      1.00      1.00    555719\n",
            "\n",
            "ROC AUC Score: 0.832878040583966\n"
          ]
        }
      ],
      "execution_count": null
    }
  ]
}